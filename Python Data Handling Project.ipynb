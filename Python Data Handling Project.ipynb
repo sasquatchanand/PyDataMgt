{
 "cells": [
  {
   "cell_type": "code",
   "execution_count": 4,
   "metadata": {},
   "outputs": [],
   "source": [
    "import numpy as np\n",
    "import pandas as pd"
   ]
  },
  {
   "cell_type": "code",
   "execution_count": null,
   "metadata": {},
   "outputs": [],
   "source": [
    "import numpy as np\n",
    "import pandas as pd\n",
    "\n",
    "file_path1 = \"Property_details.csv\"\n",
    "file_path2 = \"Order_details.csv\"\n",
    "\n",
    "\n",
    "Property_details = pd.read_csv(file_path1)\n",
    "Order_details = pd.read_csv(file_path2)\n",
    "\n"
   ]
  },
  {
   "cell_type": "code",
   "execution_count": 6,
   "metadata": {},
   "outputs": [
    {
     "name": "stdout",
     "output_type": "stream",
     "text": [
      "The number of properties in the region with the zip code 84600 is: 104\n"
     ]
    }
   ],
   "source": [
    "# Part (a):\n",
    "import pandas as pd\n",
    "\n",
    "# Specify the file path\n",
    "file_path = \"Property_details.csv\"  # Replace with the actual path\n",
    "\n",
    "# Read the CSV file into a DataFrame\n",
    "property_details = pd.read_csv(file_path)\n",
    "\n",
    "# Filter properties with the zip code of 84600\n",
    "zip_code_filter = property_details['zipcode'] == 84600\n",
    "properties_in_region = property_details[zip_code_filter]\n",
    "\n",
    "# Get the count of properties in the specified region\n",
    "num_properties_in_region = len(properties_in_region)\n",
    "\n",
    "# Print the result\n",
    "print(f'The number of properties in the region with the zip code 84600 is: {num_properties_in_region}')"
   ]
  },
  {
   "cell_type": "code",
   "execution_count": 8,
   "metadata": {},
   "outputs": [
    {
     "name": "stdout",
     "output_type": "stream",
     "text": [
      "Mean Rating: 3.4615384615384617\n",
      "Standard Deviation Rating: 0.7094791871175287\n",
      "Median Rating: 4.0\n",
      "Minimum Rating: 2\n",
      "Maximum Rating: 4\n"
     ]
    }
   ],
   "source": [
    "# Part (b):\n",
    "\n",
    "import pandas as pd\n",
    "\n",
    "# Specify the file path\n",
    "file_path = \"Property_details.csv\"  # Replace with the actual path\n",
    "\n",
    "# Read the CSV file into a DataFrame\n",
    "property_details = pd.read_csv(file_path)\n",
    "\n",
    "# Filter properties with the zip code of 84600\n",
    "zip_code_filter = property_details['zipcode'] == 84600\n",
    "properties_in_region = property_details[zip_code_filter]\n",
    "\n",
    "# Calculate statistics for the \"starratings\" column\n",
    "mean_rating = properties_in_region['starrating'].mean()\n",
    "std_dev_rating = properties_in_region['starrating'].std()\n",
    "median_rating = properties_in_region['starrating'].median()\n",
    "min_rating = properties_in_region['starrating'].min()\n",
    "max_rating = properties_in_region['starrating'].max()\n",
    "\n",
    "# Print the results\n",
    "print(f\"Mean Rating: {mean_rating}\")\n",
    "print(f\"Standard Deviation Rating: {std_dev_rating}\")\n",
    "print(f\"Median Rating: {median_rating}\")\n",
    "print(f\"Minimum Rating: {min_rating}\")\n",
    "print(f\"Maximum Rating: {max_rating}\")\n"
   ]
  },
  {
   "cell_type": "code",
   "execution_count": 5,
   "metadata": {},
   "outputs": [
    {
     "name": "stdout",
     "output_type": "stream",
     "text": [
      "         id  propertycode       dtcollected reservation date  los  guests  \\\n",
      "0  50677497        634876  10/12/2019 15:46       2019-11-02    1       1   \n",
      "\n",
      "      roomtype  onsiteprice                                 ratedescription  \\\n",
      "0  Double Room        82.36  Room size: 15 mÂ²/161 ftÂ², Shower, 1 king bed   \n",
      "\n",
      "              ratetype  ... maxoccupancy ispromo  closed discount promoname  \\\n",
      "0  Cancellation policy  ...            1       Y       N     6.24       NaN   \n",
      "\n",
      "                            proxyused mealinclusiontype hotelblock  \\\n",
      "0  media:M3diAproxy@173.44.165.126:80    Free Breakfast        NaN   \n",
      "\n",
      "  input_dtcollected weekday  \n",
      "0        10/13/2019     Sat  \n",
      "\n",
      "[1 rows x 22 columns]\n"
     ]
    }
   ],
   "source": [
    "# Part (a):\n",
    "\n",
    "import pandas as pd\n",
    "\n",
    "# Specify the file path\n",
    "file_path = \"Order_details.csv\"  # Replace with the actual path\n",
    "\n",
    "# Read the CSV file into a DataFrame with a specified encoding\n",
    "order_details = pd.read_csv(file_path, encoding='latin1')\n",
    "\n",
    "# Convert the \"reservation date\" column to datetime format\n",
    "order_details['reservation date'] = pd.to_datetime(order_details['reservation date'])\n",
    "\n",
    "# Create a new column \"weekday\" based on the day of the week\n",
    "order_details['weekday'] = order_details['reservation date'].dt.strftime('%a')\n",
    "\n",
    "# Print the DataFrame to verify the changes\n",
    "print(order_details.head(1))\n"
   ]
  },
  {
   "cell_type": "code",
   "execution_count": 6,
   "metadata": {},
   "outputs": [
    {
     "name": "stdout",
     "output_type": "stream",
     "text": [
      "Weekdays with above-average number of reservations: Mon, Thu, Tue, Wed\n"
     ]
    }
   ],
   "source": [
    "# Part (b):\n",
    "\n",
    "import pandas as pd\n",
    "\n",
    "# Specify the file path\n",
    "file_path = \"Order_details.csv\"  # Replace with the actual path\n",
    "\n",
    "# Read the CSV file into a DataFrame with a specified encoding\n",
    "order_details = pd.read_csv(file_path, encoding='latin1')\n",
    "\n",
    "# Convert the \"reservation date\" column to datetime format\n",
    "order_details['reservation date'] = pd.to_datetime(order_details['reservation date'])\n",
    "\n",
    "# Create a new column \"weekday\" based on the day of the week\n",
    "order_details['weekday'] = order_details['reservation date'].dt.strftime('%a')\n",
    "\n",
    "# Calculate the average number of reservations across all weekdays\n",
    "average_reservations = order_details.groupby('weekday').size().mean()\n",
    "\n",
    "# Identify weekdays with above-average reservations\n",
    "above_average_weekdays = order_details.groupby('weekday').size()[order_details.groupby('weekday').size() > average_reservations].index\n",
    "\n",
    "# Print the result\n",
    "print(f\"Weekdays with above-average number of reservations: {', '.join(above_average_weekdays)}\")\n"
   ]
  },
  {
   "cell_type": "code",
   "execution_count": 9,
   "metadata": {},
   "outputs": [
    {
     "name": "stdout",
     "output_type": "stream",
     "text": [
      "Top 10 Common Room Amenities in Single Rooms:\n",
      "Air conditioning: ;Free Wi-Fi in all rooms!: ;In-room safe box: ;Shower: ;TV: ;                                                              12385\n",
      "Air conditioning: ;Free Wi-Fi in all rooms!: ;In-room safe box: ;Shower: ;Telephone: ;TV: ;                                                   2479\n",
      "Air conditioning: ;In-room safe box: ;Shower: ;TV: ;                                                                                           323\n",
      "Air conditioning: ;Closet: ;Free Wi-Fi in all rooms!: ;In-room safe box: ;Ironing facilities: ;Shower: ;TV: ;                                  277\n",
      "Air conditioning: ;Free Wi-Fi in all rooms!: ;In-room safe box: ;Shower: ;TV: ;Wi-Fi in public areas: ;                                        165\n",
      "Air conditioning: ;Closet: ;Free Wi-Fi in all rooms!: ;In-room safe box: ;Ironing facilities: ;Shower: ;Telephone: ;TV: ;                      125\n",
      "Air conditioning: ;Free Wi-Fi in all rooms!: ;In-room safe box: ;Shower: ;TV [flat screen]: ;                                                  124\n",
      "Air conditioning: ;Coffee/tea maker: ;Free Wi-Fi in all rooms!: ;Hair dryer: ;In-room safe box: ;Satellite/cable channels: ;Shower: ;          110\n",
      "Air conditioning: ;Free Wi-Fi in all rooms!: ;In-room safe box: ;Telephone: ;TV: ;                                                              98\n",
      "Air conditioning: ;Free Wi-Fi in all rooms!: ;Hair dryer: ;In-room safe box: ;Mini bar: ;Satellite/cable channels: ;Shower: ;Telephone: ;       94\n",
      "Name: roomamenities, dtype: int64\n",
      "\n",
      "10 Least Common Room Amenities in Single Rooms:\n",
      "Air conditioning: ;Free Wi-Fi in all rooms!: ;Hair dryer: ;Heating: ;In-room safe box: ;Telephone: ;TV [flat screen]: ;Wake-up service: ;                                                                                                                                                                                                                                                                                                                                                                                                                                                 1\n",
      "Additional bathroom: ;Additional toilet: ;Air conditioning: ;Carpeting: ;Cleaning products: ;Closet: ;Clothes dryer: ;Clothes rack: ;Desk: ;Dishwasher: ;DVD/CD player: ;Extra long bed: ;Fireplace: ;Free Wi-Fi in all rooms!: ;Full kitchen: ;Hair dryer: ;Heating: ;In-room safe box: ;Ironing facilities: ;Kitchenware: ;Laptop safe box: ;Linens: ;Microwave: ;On-demand movies: ;Private entrance: ;Refrigerator: ;Satellite/cable channels: ;Seating area: ;Separate dining area: ;Smoke detector: ;Sofa: ;Toiletries: ;Towels: ;Washing machine: ;Wooden/parqueted flooring: ;    1\n",
      "Air conditioning: ;Closet: ;Dart board: ;Desk: ;Free bottled water: ;Free Wi-Fi in all rooms!: ;Hair dryer: ;Heating: ;In-room safe box: ;Mini bar: ;Satellite/cable channels: ;Seating area: ;Smoke detector: ;Soundproofing: ;Telephone: ;Toiletries: ;Towels: ;Wake-up service: ;                                                                                                                                                                                                                                                                                                      1\n",
      "Air conditioning: ;Closet: ;Desk: ;Free bottled water: ;Free Wi-Fi in all rooms!: ;Hair dryer: ;Heating: ;In-room safe box: ;Mini bar: ;Satellite/cable channels: ;Smoke detector: ;Soundproofing: ;Telephone: ;Toiletries: ;Towels: ;                                                                                                                                                                                                                                                                                                                                                    1\n",
      "Additional toilet: ;Air conditioning: ;Closet: ;Clothes rack: ;Desk: ;Free Wi-Fi in all rooms!: ;Hair dryer: ;Heating: ;In-room safe box: ;Mini bar: ;Smoke detector: ;Soundproofing: ;Telephone: ;Toiletries: ;Towels: ;TV [flat screen]: ;Wake-up service: ;Wooden/parqueted flooring: ;                                                                                                                                                                                                                                                                                                1\n",
      "Air conditioning: ;Desk: ;Free Wi-Fi in all rooms!: ;Hair dryer: ;Heating: ;In-room safe box: ;Mini bar: ;Satellite/cable channels: ;Seating area: ;Shower: ;Telephone: ;Toiletries: ;Wake-up service: ;                                                                                                                                                                                                                                                                                                                                                                                  1\n",
      "Additional bathroom: ;Air conditioning: ;Closet: ;Coffee/tea maker: ;Desk: ;Free Wi-Fi in all rooms!: ;Full kitchen: ;Hair dryer: ;Heating: ;High chair: ;In-room safe box: ;Interconnecting room(s) available: ;Kitchenware: ;Linens: ;Microwave: ;Refrigerator: ;Seating area: ;Separate dining area: ;Smoke detector: ;Sofa: ;Telephone: ;Toiletries: ;Towels: ;TV [flat screen]: ;Wake-up service: ;Wooden/parqueted flooring: ;                                                                                                                                                      1\n",
      "Additional toilet: ;Air conditioning: ;Alarm clock: ;Carpeting: ;Closet: ;Coffee/tea maker: ;Desk: ;Free Wi-Fi in all rooms!: ;Hair dryer: ;Heating: ;In-room safe box: ;Ironing facilities: ;Linens: ;Seating area: ;Toiletries: ;Towels: ;TV [flat screen]: ;Wake-up service: ;                                                                                                                                                                                                                                                                                                         1\n",
      "Air conditioning: ;Closet: ;Desk: ;Free Wi-Fi in all rooms!: ;Hair dryer: ;Heating: ;In-room safe box: ;Satellite/cable channels: ;Smoke detector: ;Soundproofing: ;Telephone: ;Toiletries: ;Towels: ;Wake-up service: ;Wooden/parqueted flooring: ;                                                                                                                                                                                                                                                                                                                                      1\n",
      "Air conditioning: ;Bathrobes: ;Carpeting: ;Closet: ;Desk: ;Extra long bed: ;Free Wi-Fi in all rooms!: ;Hair dryer: ;Heating: ;High chair: ;In-room safe box: ;Ironing facilities: ;Linens: ;Mini bar: ;Mirror: ;Mosquito net: ;Satellite/cable channels: ;Telephone: ;Toiletries: ;Towels: ;Wake-up service: ;                                                                                                                                                                                                                                                                            1\n",
      "Name: roomamenities, dtype: int64\n"
     ]
    }
   ],
   "source": [
    "# You can deceide whether to display you output for 3(a) and 3(b) separately or together\n",
    "\n",
    "import pandas as pd\n",
    "\n",
    "# Specify the file path\n",
    "file_path = \"Order_details.csv\"  # Replace with the actual path\n",
    "\n",
    "# Read the CSV file into a DataFrame with a specified encoding\n",
    "order_details = pd.read_csv(file_path, encoding='latin1')\n",
    "\n",
    "# Filter rows for single rooms (maxoccupancy = 1)\n",
    "single_rooms = order_details[order_details['maxoccupancy'] == 1]\n",
    "\n",
    "# Split and explode the \"roomamenities\" column to create a list of amenities\n",
    "amenities_series = single_rooms['roomamenities'].str.split(',').explode()\n",
    "\n",
    "# Remove leading and trailing whitespaces from amenities\n",
    "amenities_series = amenities_series.str.strip()\n",
    "\n",
    "# Calculate the top 10 common room amenities\n",
    "top_10_common_amenities = amenities_series.value_counts().head(10)\n",
    "\n",
    "# Calculate the 10 least common room amenities\n",
    "least_10_common_amenities = amenities_series.value_counts().tail(10)\n",
    "\n",
    "# Print the results\n",
    "print(\"Top 10 Common Room Amenities in Single Rooms:\")\n",
    "print(top_10_common_amenities)\n",
    "\n",
    "print(\"\\n10 Least Common Room Amenities in Single Rooms:\")\n",
    "print(least_10_common_amenities)"
   ]
  },
  {
   "cell_type": "code",
   "execution_count": null,
   "metadata": {},
   "outputs": [],
   "source": [
    " If you displayed your output of 3(b) together with 3(a) please delete this cell\n"
   ]
  },
  {
   "cell_type": "code",
   "execution_count": 11,
   "metadata": {},
   "outputs": [
    {
     "name": "stdout",
     "output_type": "stream",
     "text": [
      "         id  propertycode       dtcollected reservation date  los  guests  \\\n",
      "0  50677497        634876  10/12/2019 15:46        11/2/2019    1       1   \n",
      "1  50672149       8328096  10/12/2019 15:47       11/30/2019    1       1   \n",
      "2  50643430       8323442  10/12/2019 15:47       12/20/2019    1       1   \n",
      "3  50650317          7975  10/12/2019 15:47       12/28/2019    1       1   \n",
      "4  50650318          7975  10/12/2019 15:47       12/28/2019    1       1   \n",
      "\n",
      "               roomtype  onsiteprice  \\\n",
      "0           Double Room        82.36   \n",
      "1         Vacation Home       636.09   \n",
      "2         Vacation Home       591.74   \n",
      "3  Standard Triple Room       881.48   \n",
      "4  Standard Triple Room       897.53   \n",
      "\n",
      "                                     ratedescription  \\\n",
      "0     Room size: 15 mÂ²/161 ftÂ², Shower, 1 king bed   \n",
      "1  Shower, Kitchenette, 2 bedrooms, 1 double bed ...   \n",
      "2  Shower, Kitchenette, 2 bedrooms, 1 double bed ...   \n",
      "3  Room size: 20 mÂ²/215 ftÂ², Shower, 3 single beds   \n",
      "4  Room size: 20 mÂ²/215 ftÂ², Shower, 3 single beds   \n",
      "\n",
      "                            ratetype  ... maxoccupancy ispromo  closed  \\\n",
      "0                Cancellation policy  ...            1       Y       N   \n",
      "1                Cancellation policy  ...            4       N       N   \n",
      "2  Extra low price! (non-refundable)  ...            4       N       N   \n",
      "3  Extra low price! (non-refundable)  ...            1       N       N   \n",
      "4  Extra low price! (non-refundable)  ...            3       N       N   \n",
      "\n",
      "  discount promoname                            proxyused  \\\n",
      "0     6.24       NaN   media:M3diAproxy@173.44.165.126:80   \n",
      "1     0.00       NaN   media:M3diAproxy@173.44.164.126:80   \n",
      "2     0.00       NaN   media:M3diAproxy@173.44.166.122:80   \n",
      "3     0.00       NaN  media:M3diAproxy@209.242.219.141:80   \n",
      "4     0.00       NaN  media:M3diAproxy@209.242.219.141:80   \n",
      "\n",
      "        mealinclusiontype hotelblock input_dtcollected replaced_onsiteprice  \n",
      "0          Free Breakfast        NaN        10/13/2019                82.36  \n",
      "1                     NaN        NaN        10/13/2019               636.09  \n",
      "2                     NaN        NaN        10/13/2019               591.74  \n",
      "3                     NaN        NaN        10/13/2019               881.48  \n",
      "4  Free breakfast for {3}        NaN        10/13/2019               897.53  \n",
      "\n",
      "[5 rows x 22 columns]\n"
     ]
    }
   ],
   "source": [
    "# Part (a):\n",
    "import pandas as pd\n",
    "\n",
    "# Specify the file path\n",
    "file_path = \"Order_details.csv\"  # Replace with the actual path\n",
    "\n",
    "# Read the CSV file into a DataFrame with a specified encoding\n",
    "order_details = pd.read_csv(file_path, encoding='latin1')\n",
    "\n",
    "# Filter rows with zero \"onsiteprice\" values\n",
    "zero_price_filter = order_details['onsiteprice'] == 0\n",
    "\n",
    "# Create a new column \"replaced_onsiteprice\" by copying the original \"onsiteprice\"\n",
    "order_details['replaced_onsiteprice'] = order_details['onsiteprice']\n",
    "\n",
    "# Calculate the median of non-zero \"onsiteprice\" for each property\n",
    "property_median_prices = order_details[order_details['onsiteprice'] > 0].groupby('propertycode')['onsiteprice'].median()\n",
    "\n",
    "# Replace zero values in \"replaced_onsiteprice\" with the median for the corresponding property\n",
    "order_details.loc[zero_price_filter, 'replaced_onsiteprice'] = order_details.loc[zero_price_filter, 'propertycode'].map(property_median_prices)\n",
    "\n",
    "# Print the DataFrame to verify the changes\n",
    "print(order_details.head())\n"
   ]
  },
  {
   "cell_type": "code",
   "execution_count": 14,
   "metadata": {},
   "outputs": [
    {
     "name": "stdout",
     "output_type": "stream",
     "text": [
      "   hotelcode  Maximum  Minimum  Normalized Maximum\n",
      "0         31   374.73   219.52            0.008631\n",
      "1         56   149.51    73.46            0.004229\n",
      "2         97   468.83   259.76            0.011626\n",
      "3        138   321.84   169.66            0.008463\n",
      "4        147   226.18   122.90            0.005743\n"
     ]
    }
   ],
   "source": [
    "# Part (b):\n",
    "\n",
    "import pandas as pd\n",
    "\n",
    "# Specify the file path\n",
    "file_path = \"Order_details.csv\"  # Replace with the actual path\n",
    "\n",
    "# Read the CSV file into a DataFrame with a specified encoding\n",
    "order_details = pd.read_csv(file_path, encoding='latin1')\n",
    "\n",
    "# Filter rows with zero \"onsiteprice\" values\n",
    "zero_price_filter = order_details['onsiteprice'] == 0\n",
    "\n",
    "# Create a new column \"replaced_onsiteprice\" by copying the original \"onsiteprice\"\n",
    "order_details['replaced_onsiteprice'] = order_details['onsiteprice']\n",
    "\n",
    "# Calculate the median of non-zero \"onsiteprice\" for each property\n",
    "property_median_prices = order_details[order_details['onsiteprice'] > 0].groupby('propertycode')['onsiteprice'].median()\n",
    "\n",
    "# Replace zero values in \"replaced_onsiteprice\" with the median for the corresponding property\n",
    "order_details.loc[zero_price_filter, 'replaced_onsiteprice'] = order_details.loc[zero_price_filter, 'propertycode'].map(property_median_prices)\n",
    "\n",
    "# Calculate maximum and minimum values of \"replaced_onsiteprice\" for each property\n",
    "property_price_stats = order_details.groupby('propertycode')['replaced_onsiteprice'].agg(['max', 'min']).reset_index()\n",
    "property_price_stats.columns = ['hotelcode', 'Maximum', 'Minimum']\n",
    "\n",
    "# Calculate the Normalized Maximum column\n",
    "property_price_stats['Normalized Maximum'] = (property_price_stats['Maximum'] - property_price_stats['Minimum']) / (property_price_stats['Maximum'] - property_price_stats['Minimum']).max()\n",
    "\n",
    "# Save relevant columns to a new CSV file\n",
    "property_price_stats[['hotelcode', 'Maximum', 'Minimum', 'Normalized Maximum']].to_csv(\"Max_Min_Price.csv\", index=False)\n",
    "\n",
    "# Print the DataFrame to verify the changes\n",
    "print(property_price_stats.head())\n"
   ]
  },
  {
   "cell_type": "code",
   "execution_count": 22,
   "metadata": {},
   "outputs": [
    {
     "name": "stdout",
     "output_type": "stream",
     "text": [
      "The number of available hotels with a room for 3 or more guests is: 3141\n"
     ]
    }
   ],
   "source": [
    "# Part (a):\n",
    "import pandas as pd\n",
    "\n",
    "# Specify the file path\n",
    "file_path = \"Order_details.csv\"  # Replace with the actual path\n",
    "\n",
    "# Read the CSV file into a DataFrame with a specified encoding\n",
    "order_details = pd.read_csv(file_path, encoding='latin1')\n",
    "\n",
    "# Filter hotels based on conditions\n",
    "available_hotels = order_details[(order_details['closed'] == 'N') &\n",
    "                                 (order_details['hotelblock'] != 'sold out') & \n",
    "                                 (order_details['maxoccupancy'] >= 3)]\n",
    "\n",
    "# Count the number of available hotels\n",
    "num_available_hotels = available_hotels['propertycode'].nunique()\n",
    "\n",
    "# Print the result\n",
    "print(f\"The number of available hotels with a room for 3 or more guests is: {num_available_hotels}\")\n"
   ]
  },
  {
   "cell_type": "code",
   "execution_count": 25,
   "metadata": {},
   "outputs": [
    {
     "ename": "KeyError",
     "evalue": "'Column not found: replaced_onsiteprice'",
     "output_type": "error",
     "traceback": [
      "\u001b[1;31m---------------------------------------------------------------------------\u001b[0m",
      "\u001b[1;31mKeyError\u001b[0m                                  Traceback (most recent call last)",
      "Cell \u001b[1;32mIn[25], line 32\u001b[0m\n\u001b[0;32m     25\u001b[0m order_details \u001b[38;5;241m=\u001b[39m pd\u001b[38;5;241m.\u001b[39mread_csv(file_path, encoding\u001b[38;5;241m=\u001b[39m\u001b[38;5;124m'\u001b[39m\u001b[38;5;124mlatin1\u001b[39m\u001b[38;5;124m'\u001b[39m)\n\u001b[0;32m     27\u001b[0m \u001b[38;5;66;03m# Filter hotels based on conditions, including the maximum price constraint\u001b[39;00m\n\u001b[0;32m     28\u001b[0m available_hotels \u001b[38;5;241m=\u001b[39m order_details[ \n\u001b[0;32m     29\u001b[0m                                  (order_details[\u001b[38;5;124m'\u001b[39m\u001b[38;5;124mclosed\u001b[39m\u001b[38;5;124m'\u001b[39m] \u001b[38;5;241m==\u001b[39m \u001b[38;5;124m'\u001b[39m\u001b[38;5;124mN\u001b[39m\u001b[38;5;124m'\u001b[39m) \u001b[38;5;241m&\u001b[39m \n\u001b[0;32m     30\u001b[0m                                  (order_details[\u001b[38;5;124m'\u001b[39m\u001b[38;5;124mhotelblock\u001b[39m\u001b[38;5;124m'\u001b[39m] \u001b[38;5;241m!=\u001b[39m \u001b[38;5;124m'\u001b[39m\u001b[38;5;124msold out\u001b[39m\u001b[38;5;124m'\u001b[39m) \u001b[38;5;241m&\u001b[39m \n\u001b[0;32m     31\u001b[0m                                  (order_details[\u001b[38;5;124m'\u001b[39m\u001b[38;5;124mmaxoccupancy\u001b[39m\u001b[38;5;124m'\u001b[39m] \u001b[38;5;241m>\u001b[39m\u001b[38;5;241m=\u001b[39m \u001b[38;5;241m3\u001b[39m) \u001b[38;5;241m&\u001b[39m \n\u001b[1;32m---> 32\u001b[0m                                  (\u001b[43morder_details\u001b[49m\u001b[38;5;241;43m.\u001b[39;49m\u001b[43mgroupby\u001b[49m\u001b[43m(\u001b[49m\u001b[38;5;124;43m'\u001b[39;49m\u001b[38;5;124;43mpropertycode\u001b[39;49m\u001b[38;5;124;43m'\u001b[39;49m\u001b[43m)\u001b[49m\u001b[43m[\u001b[49m\u001b[38;5;124;43m'\u001b[39;49m\u001b[38;5;124;43mreplaced_onsiteprice\u001b[39;49m\u001b[38;5;124;43m'\u001b[39;49m\u001b[43m]\u001b[49m\u001b[38;5;241m.\u001b[39mtransform(\u001b[38;5;124m'\u001b[39m\u001b[38;5;124mmax\u001b[39m\u001b[38;5;124m'\u001b[39m) \u001b[38;5;241m<\u001b[39m\u001b[38;5;241m=\u001b[39m \u001b[38;5;241m150\u001b[39m)]\n\u001b[0;32m     34\u001b[0m \u001b[38;5;66;03m# Count the number of available hotels\u001b[39;00m\n\u001b[0;32m     35\u001b[0m num_available_hotels \u001b[38;5;241m=\u001b[39m available_hotels[\u001b[38;5;124m'\u001b[39m\u001b[38;5;124mpropertycode\u001b[39m\u001b[38;5;124m'\u001b[39m]\u001b[38;5;241m.\u001b[39mnunique()\n",
      "File \u001b[1;32m~\\anaconda3\\lib\\site-packages\\pandas\\core\\groupby\\generic.py:1416\u001b[0m, in \u001b[0;36mDataFrameGroupBy.__getitem__\u001b[1;34m(self, key)\u001b[0m\n\u001b[0;32m   1407\u001b[0m \u001b[38;5;28;01mif\u001b[39;00m \u001b[38;5;28misinstance\u001b[39m(key, \u001b[38;5;28mtuple\u001b[39m) \u001b[38;5;129;01mand\u001b[39;00m \u001b[38;5;28mlen\u001b[39m(key) \u001b[38;5;241m>\u001b[39m \u001b[38;5;241m1\u001b[39m:\n\u001b[0;32m   1408\u001b[0m     \u001b[38;5;66;03m# if len == 1, then it becomes a SeriesGroupBy and this is actually\u001b[39;00m\n\u001b[0;32m   1409\u001b[0m     \u001b[38;5;66;03m# valid syntax, so don't raise warning\u001b[39;00m\n\u001b[0;32m   1410\u001b[0m     warnings\u001b[38;5;241m.\u001b[39mwarn(\n\u001b[0;32m   1411\u001b[0m         \u001b[38;5;124m\"\u001b[39m\u001b[38;5;124mIndexing with multiple keys (implicitly converted to a tuple \u001b[39m\u001b[38;5;124m\"\u001b[39m\n\u001b[0;32m   1412\u001b[0m         \u001b[38;5;124m\"\u001b[39m\u001b[38;5;124mof keys) will be deprecated, use a list instead.\u001b[39m\u001b[38;5;124m\"\u001b[39m,\n\u001b[0;32m   1413\u001b[0m         \u001b[38;5;167;01mFutureWarning\u001b[39;00m,\n\u001b[0;32m   1414\u001b[0m         stacklevel\u001b[38;5;241m=\u001b[39mfind_stack_level(),\n\u001b[0;32m   1415\u001b[0m     )\n\u001b[1;32m-> 1416\u001b[0m \u001b[38;5;28;01mreturn\u001b[39;00m \u001b[38;5;28;43msuper\u001b[39;49m\u001b[43m(\u001b[49m\u001b[43m)\u001b[49m\u001b[38;5;241;43m.\u001b[39;49m\u001b[38;5;21;43m__getitem__\u001b[39;49m\u001b[43m(\u001b[49m\u001b[43mkey\u001b[49m\u001b[43m)\u001b[49m\n",
      "File \u001b[1;32m~\\anaconda3\\lib\\site-packages\\pandas\\core\\base.py:248\u001b[0m, in \u001b[0;36mSelectionMixin.__getitem__\u001b[1;34m(self, key)\u001b[0m\n\u001b[0;32m    246\u001b[0m \u001b[38;5;28;01melse\u001b[39;00m:\n\u001b[0;32m    247\u001b[0m     \u001b[38;5;28;01mif\u001b[39;00m key \u001b[38;5;129;01mnot\u001b[39;00m \u001b[38;5;129;01min\u001b[39;00m \u001b[38;5;28mself\u001b[39m\u001b[38;5;241m.\u001b[39mobj:\n\u001b[1;32m--> 248\u001b[0m         \u001b[38;5;28;01mraise\u001b[39;00m \u001b[38;5;167;01mKeyError\u001b[39;00m(\u001b[38;5;124mf\u001b[39m\u001b[38;5;124m\"\u001b[39m\u001b[38;5;124mColumn not found: \u001b[39m\u001b[38;5;132;01m{\u001b[39;00mkey\u001b[38;5;132;01m}\u001b[39;00m\u001b[38;5;124m\"\u001b[39m)\n\u001b[0;32m    249\u001b[0m     subset \u001b[38;5;241m=\u001b[39m \u001b[38;5;28mself\u001b[39m\u001b[38;5;241m.\u001b[39mobj[key]\n\u001b[0;32m    250\u001b[0m     ndim \u001b[38;5;241m=\u001b[39m subset\u001b[38;5;241m.\u001b[39mndim\n",
      "\u001b[1;31mKeyError\u001b[0m: 'Column not found: replaced_onsiteprice'"
     ]
    }
   ],
   "source": [
    "# Part (b):\n",
    "\n",
    "import pandas as pd\n",
    "\n",
    "# Specify the file path\n",
    "file_path = \"Order_details.csv\"  # Replace with the actual path\n",
    "\n",
    "# Read the CSV file into a DataFrame with a specified encoding\n",
    "order_details = pd.read_csv(file_path, encoding='latin1')\n",
    "\n",
    "# Filter rows with zero \"onsiteprice\" values\n",
    "zero_price_filter = order_details['onsiteprice'] == 0\n",
    "\n",
    "# Create a new column \"replaced_onsiteprice\" by copying the original \"onsiteprice\"\n",
    "order_details['replaced_onsiteprice'] = order_details['onsiteprice']\n",
    "\n",
    "# Calculate the median of non-zero \"onsiteprice\" for each property\n",
    "property_median_prices = order_details[order_details['onsiteprice'] > 0].groupby('propertycode')['onsiteprice'].median()\n",
    "\n",
    "# Replace zero values in \"replaced_onsiteprice\" with the median for the corresponding property\n",
    "order_details.loc[zero_price_filter, 'replaced_onsiteprice'] = order_details.loc[zero_price_filter, 'propertycode'].map(property_median_prices)\n",
    "file_path = \"Order_details.csv\"  # Replace with the actual path\n",
    "\n",
    "# Read the CSV file into a DataFrame with a specified encoding\n",
    "order_details = pd.read_csv(file_path, encoding='latin1')\n",
    "\n",
    "# Filter hotels based on conditions, including the maximum price constraint\n",
    "available_hotels = order_details[ \n",
    "                                 (order_details['closed'] == 'N') & \n",
    "                                 (order_details['hotelblock'] != 'sold out') & \n",
    "                                 (order_details['maxoccupancy'] >= 3) & \n",
    "                                 (order_details.groupby('propertycode')['replaced_onsiteprice'].transform('max') <= 150)]\n",
    "\n",
    "# Count the number of available hotels\n",
    "num_available_hotels = available_hotels['propertycode'].nunique()\n",
    "\n",
    "# Print the result\n",
    "print(f\"The number of available hotels with a room for 3 or more guests and a maximum price of $150 or less is: {num_available_hotels}\")\n"
   ]
  },
  {
   "cell_type": "code",
   "execution_count": null,
   "metadata": {},
   "outputs": [],
   "source": [
    "# Part (a):\n"
   ]
  },
  {
   "cell_type": "code",
   "execution_count": null,
   "metadata": {},
   "outputs": [],
   "source": [
    "# Part (b):\n"
   ]
  }
 ],
 "metadata": {
  "kernelspec": {
   "display_name": "Python 3 (ipykernel)",
   "language": "python",
   "name": "python3"
  },
  "language_info": {
   "codemirror_mode": {
    "name": "ipython",
    "version": 3
   },
   "file_extension": ".py",
   "mimetype": "text/x-python",
   "name": "python",
   "nbconvert_exporter": "python",
   "pygments_lexer": "ipython3",
   "version": "3.10.11"
  }
 },
 "nbformat": 4,
 "nbformat_minor": 2
}
